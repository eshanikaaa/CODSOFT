{
 "cells": [
  {
   "cell_type": "code",
   "execution_count": null,
   "metadata": {},
   "outputs": [],
   "source": [
    "\n",
    "x=int(input(\" Number:\"))\n",
    "z=input(\" Operation:\")\n",
    "y=int(input(\" Number:\"))\n",
    "print(x,z,y)\n",
    "if z== \"+\":\n",
    "\tprint(\"=\",x+y)\n",
    "elif z==\"-\":\n",
    "\tprint(\"=\",x-y)\n",
    "elif z==\"/\":\n",
    "\tprint(\"=\",x/y)\n",
    "elif z==\"×\":\n",
    "\tprint(\"=\",x*y)\n",
    "else:\n",
    "\tprint(\"put operation like +,-,/,×\")"
   ]
  }
 ],
 "metadata": {
  "language_info": {
   "name": "python"
  }
 },
 "nbformat": 4,
 "nbformat_minor": 2
}
